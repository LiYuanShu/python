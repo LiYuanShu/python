{
 "cells": [
  {
   "cell_type": "code",
   "execution_count": 20,
   "metadata": {},
   "outputs": [
    {
     "name": "stdout",
     "output_type": "stream",
     "text": [
      "家/n 有/vyou 傻/a 犬/ng ~/x 不要/d 再/d 裝/x 笨/a 好/a 不好/a .../ww ./wj ./wj\n",
      "['家/n 有/vyou 傻/a 犬/ng ~/x 不要/d 再/d 裝/x 笨/a 好/a 不好/a .../ww ./wj ./wj'\n",
      " '回复/v 因为/c 已经/d 下雨/vi 啦/y  为什么/ryv 为什么/ryv ！/wt 为/p 毛/nr1 台风/n 为/v 毛/nr1 台风/n 还/d 不/d 来/vf .../ww 快/d 挂/v 了/y ./wj ./wj 说/v 好/a 吃/v 完/vi 雪糕/n 下雨/vi 的/ude1 哇/y'\n",
      " '你/rr 都/d 吃光/v 了/ule 还/d 叫/vi 我们/rr 一起/d ？/ww 各位/rr 早上/t 好/a ！/wt 吃/v 了/ule 没/d ？/ww 一起/s 来/vf 点/n ？/ww'\n",
      " ...\n",
      " '普及/v 法律/n 点子/n 挺/d 不错/a 的/ude1  晕/vi ，/wd 若/c 让/v 我/rr 碰上/v ，/wd 我/rr 宁可/d 不/d 上/vf 线/n 了/ule 。。。/ww  学习/v 了/y ！/wt   崩溃/vi 崩溃/vi 史/ng 上/f 最/d 强悍/a 的/ude1 验证/vn 码/v 集合/v 。。。/ww (/wkz 投稿/vi )/wky'\n",
      " '回复/v 哈哈/o ，/wd 一边/d 是/vshi 海水/n ，/wd 一边/d 是/vshi 火焰/n 。。。/ww  咱们/rr 要/v 创/vg 一/m 个/q 最高/a 的/ude1 收视率/n 让/v 要/v 他们/rr 看看/v  删/v 了/ule 也/d 不/d 能/v 弥补/v 对/p 力宏/nr 的/ude1 伤害/vn 了/y ，/wd 有些/rz 不明/v 真相/n 的/ude1 路/n 人/n 已经/d 相信/v 了/ule 马桶/n 台/q 真/d 是/vshi 个/q 是非/n 之/uzhi 地/n 啊/y ，/wd 王/nr1 导/n 从小/d 就/d 对/p 芒果/n 过敏/vi ，/wd 现在/t 依旧/z 过敏/vi 啊/y 宏/nz 迷/ng 还/d 是/vshi 强大/a 的/ude1 ，/wd 那个/rz 女人/n 的/ude1 微薄/a 已经/d 删除/v ，/wd 呵呵/v 。。。/ww 。。。/ww 偶像/n 的/ude1 力量/n ，/wd 粉丝/n 的/ude1 力量/n 。。。/ww 。/wj 团结/a 的/ude1 力量/n ，/wd 王半仙/nr ，/wd 你/rr 不/d 是/vshi 一个/mq 人/n 在/p 战斗/vi ，/wd 你/rr 的/ude1 粉丝/n 和/cc 神/n 婆/ng 捍卫/v 你/rr ，/wd 哈哈/o'\n",
      " '今天/t 衣服/n 穿/v 少/a 了/y ，/wd 好/a 冷/a ，/wd 可怜/v 。/wj 。/wj 有人/r 给/p 我/rr 送/v 衣服/n 就/d 好/a 了/ule 。。。']\n"
     ]
    }
   ],
   "source": [
    "import numpy\n",
    "words=numpy.genfromtxt('3_simplifyweibo.txt',delimiter=\"\\n\",dtype=str, encoding='UTF-8')\n",
    "print(words[0])\n",
    "\n",
    "print(words)"
   ]
  },
  {
   "cell_type": "code",
   "execution_count": null,
   "metadata": {},
   "outputs": [],
   "source": []
  }
 ],
 "metadata": {
  "kernelspec": {
   "display_name": "Python 3",
   "language": "python",
   "name": "python3"
  },
  "language_info": {
   "codemirror_mode": {
    "name": "ipython",
    "version": 3
   },
   "file_extension": ".py",
   "mimetype": "text/x-python",
   "name": "python",
   "nbconvert_exporter": "python",
   "pygments_lexer": "ipython3",
   "version": "3.7.3"
  },
  "toc": {
   "base_numbering": 1,
   "nav_menu": {},
   "number_sections": true,
   "sideBar": true,
   "skip_h1_title": false,
   "title_cell": "Table of Contents",
   "title_sidebar": "Contents",
   "toc_cell": false,
   "toc_position": {},
   "toc_section_display": true,
   "toc_window_display": false
  }
 },
 "nbformat": 4,
 "nbformat_minor": 2
}
